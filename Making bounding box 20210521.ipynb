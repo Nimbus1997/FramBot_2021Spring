{
 "cells": [
  {
   "cell_type": "markdown",
   "id": "plain-haiti",
   "metadata": {},
   "source": [
    "# Labeling 작업: Bounding Box creation \n",
    "일시: 2021.05.21 - \n"
   ]
  },
  {
   "cell_type": "markdown",
   "id": "casual-coaching",
   "metadata": {},
   "source": [
    "rgb 이미지를 띄워서 \n",
    "1) 대상 식물에서 젤 위에 있는 화방하나\n",
    "\n",
    "2) 분기점\n",
    "\n",
    "3) 생장점 (식물의 끝 점)--- 상의후 알려주신다고 하였음. \n",
    "\n",
    "총 3개의 boudning box를 만들어 annotate하기 "
   ]
  },
  {
   "cell_type": "markdown",
   "id": "dirty-fortune",
   "metadata": {},
   "source": [
    "opencv EVENT_LBUTTONUP 이용. java에서 배운 것과 비슷한 듯"
   ]
  },
  {
   "cell_type": "markdown",
   "id": "cleared-amount",
   "metadata": {},
   "source": [
    "## 1. 필요한 것들 import"
   ]
  },
  {
   "cell_type": "markdown",
   "id": "convinced-confusion",
   "metadata": {},
   "source": [
    "1) txt 파일 만들고, 내용작성하기 - https://wikidocs.net/26\n",
    "\n",
    "2) mouse로 클릭해서 bounding box 좌표값 받아오기 -https://www.pyimagesearch.com/2015/03/09/capturing-mouse-click-events-with-python-and-opencv/ "
   ]
  },
  {
   "cell_type": "code",
   "execution_count": 2,
   "id": "engaged-throat",
   "metadata": {},
   "outputs": [],
   "source": [
    "import cv2 as cv\n",
    "import argparse"
   ]
  },
  {
   "cell_type": "code",
   "execution_count": 3,
   "id": "scenic-blink",
   "metadata": {},
   "outputs": [],
   "source": [
    "path=\"./data4_annotationTXT\""
   ]
  },
  {
   "cell_type": "code",
   "execution_count": 4,
   "id": "touched-phase",
   "metadata": {},
   "outputs": [],
   "source": [
    "f=open(path+\"/\"+\"test.txt\",'w')"
   ]
  },
  {
   "cell_type": "code",
   "execution_count": 5,
   "id": "embedded-indonesian",
   "metadata": {},
   "outputs": [
    {
     "data": {
      "text/plain": [
       "<function TextIOWrapper.close()>"
      ]
     },
     "execution_count": 5,
     "metadata": {},
     "output_type": "execute_result"
    }
   ],
   "source": [
    "f.close"
   ]
  },
  {
   "cell_type": "code",
   "execution_count": null,
   "id": "armed-eclipse",
   "metadata": {},
   "outputs": [],
   "source": []
  }
 ],
 "metadata": {
  "kernelspec": {
   "display_name": "Python 3",
   "language": "python",
   "name": "python3"
  },
  "language_info": {
   "codemirror_mode": {
    "name": "ipython",
    "version": 3
   },
   "file_extension": ".py",
   "mimetype": "text/x-python",
   "name": "python",
   "nbconvert_exporter": "python",
   "pygments_lexer": "ipython3",
   "version": "3.8.0"
  },
  "toc": {
   "base_numbering": 1,
   "nav_menu": {},
   "number_sections": false,
   "sideBar": true,
   "skip_h1_title": false,
   "title_cell": "Table of Contents",
   "title_sidebar": "Contents",
   "toc_cell": false,
   "toc_position": {},
   "toc_section_display": true,
   "toc_window_display": true
  }
 },
 "nbformat": 4,
 "nbformat_minor": 5
}
