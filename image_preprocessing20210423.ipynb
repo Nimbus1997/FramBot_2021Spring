{
 "cells": [
  {
   "cell_type": "markdown",
   "id": "periodic-cemetery",
   "metadata": {},
   "source": [
    "-0423 새로 받은 lidar(L515) image 한번 분석해보기    \n",
    "-image processing은 deep한 분야라 일단, 있는 알고리즘 쓰고 나중에 새로운 아이디어 내서 해보기(박박사님)\n",
    "clahe알고리즘 (히스토그램 평활화)사용해보는것도 좋을 듯"
   ]
  },
  {
   "cell_type": "markdown",
   "id": "respiratory-lender",
   "metadata": {},
   "source": [
    "# [ Realsense 이용한 image 전처리]\n",
    "1. rgb, depth 이미지 각각을 확인하고, 각각 이미지 따로 처리(2021.03.31)\n",
    "2. depth 정보를 이용하여 background 없애기 --> average filter가 gaussian 보다 좋음 & ㅇ\n",
    "\n",
    "\n",
    "  \n",
    "\n"
   ]
  },
  {
   "cell_type": "code",
   "execution_count": 2,
   "id": "absolute-insulation",
   "metadata": {},
   "outputs": [],
   "source": [
    "# Python 3.8 & OpenCV 4.5.1.48\n",
    "# Lastupdate 2021.4.13 jieun\n",
    "\n",
    "import numpy as np\n",
    "import cv2 as cv\n",
    "\n",
    "#image size가 아래와 같음. 이 값을 사용하지는 않음\n",
    "width = 1280\n",
    "height = 720"
   ]
  },
  {
   "cell_type": "markdown",
   "id": "included-litigation",
   "metadata": {},
   "source": [
    "##  RGB, depth 이미지 각각을 확인하고, 각각 이미지 따로 처리(2021.03.31)"
   ]
  },
  {
   "cell_type": "markdown",
   "id": "operating-reply",
   "metadata": {},
   "source": [
    "### image load"
   ]
  },
  {
   "cell_type": "code",
   "execution_count": 4,
   "id": "rocky-holiday",
   "metadata": {},
   "outputs": [],
   "source": [
    "#rgb image, depth image, depth csv load\n",
    "\n",
    "dir_name = \"Lidar_20210423/Img_20210416_016\"\n",
    "depth = np.loadtxt(dir_name + \"/Dist_data_1.csv\", delimiter=',')\n",
    "color = cv.imread(dir_name + \"/RGB_1.jpg\", cv.IMREAD_COLOR)\n",
    "colorized_depth = cv.imread( dir_name + \"/Dist_img_1.png\", cv.IMREAD_COLOR)\n",
    "\n",
    "## HSV for flower detection -- 꽃이 눈에 확 띈다\n",
    "color_hsv = cv.cvtColor(color, cv.COLOR_BGR2HSV) "
   ]
  },
  {
   "cell_type": "code",
   "execution_count": 7,
   "id": "included-manor",
   "metadata": {},
   "outputs": [],
   "source": [
    "## 특정 이미지 hsv확인\n",
    "# #rgb image, depth image, depth csv load\n",
    "\n",
    "# dir_name = \"/home/vision/Documents/Farmbot/LiDAR_20210506/data3_ALLselect/Img_20210422_116\"\n",
    "# color = cv.imread(dir_name + \"/KIST_Tomato_Z200_RGB_2021-04-22(112621)_3.png\", cv.IMREAD_COLOR)\n",
    "\n",
    "\n",
    "# ## HSV for flower detection -- 꽃이 눈에 확 띈다\n",
    "# color_hsv = cv.cvtColor(color, cv.COLOR_BGR2HSV) \n",
    "# cv.imshow('hsv',color_hsv)\n",
    "# cv.imshow('color',color)\n",
    "# cv.waitKey(0) # space 바 처럼 키 아무거나 누르면 끝남 (창도 닫힘)\n",
    "# cv.destroyAllWindows() "
   ]
  },
  {
   "cell_type": "markdown",
   "id": "accessible-agent",
   "metadata": {},
   "source": [
    "### image 띄우기"
   ]
  },
  {
   "cell_type": "code",
   "execution_count": 115,
   "id": "measured-income",
   "metadata": {},
   "outputs": [
    {
     "name": "stdout",
     "output_type": "stream",
     "text": [
      "RGB shape:  (720, 1280, 3)\n",
      "colorized_depth shape:  (720, 1280, 3)\n",
      "Depth shape:  (720, 1280)\n",
      "color_hsv shape:  (720, 1280, 3)\n"
     ]
    }
   ],
   "source": [
    "#image 띄우기\n",
    "print(\"RGB shape: \",color.shape)\n",
    "print(\"colorized_depth shape: \",colorized_depth.shape)\n",
    "print(\"Depth shape: \",depth.shape)\n",
    "print(\"color_hsv shape: \",color_hsv.shape)\n",
    "\n",
    "cv.imshow('RGB', color)\n",
    "cv.imshow('Colorized depth', colorized_depth)\n",
    "cv.imshow('Depth', depth)\n",
    "cv.imshow('HSV', color_hsv)\n",
    " \n",
    "cv.waitKey(0) # space 바 처럼 키 아무거나 누르면 끝남 (창도 닫힘)\n",
    "cv.destroyAllWindows() "
   ]
  },
  {
   "cell_type": "code",
   "execution_count": 70,
   "id": "linear-variance",
   "metadata": {},
   "outputs": [],
   "source": [
    "#RGB 이미지와 hsv이미지 합침 just plus & weighted sum\n",
    "\n",
    "rgbplus = cv.add(color,color_hsv)\n",
    "rgbplusw = cv.addWeighted(color,0.5, color_hsv,0.5,0.0)\n",
    "\n",
    "cv.imshow('RGB+HSV',rgbplus)\n",
    "cv.imshow('RGB/2+ HSB/2',rgbplusw)\n",
    "\n",
    "cv.waitKey(0)\n",
    "cv.destroyAllWindows()   "
   ]
  },
  {
   "cell_type": "code",
   "execution_count": 16,
   "id": "copyrighted-dictionary",
   "metadata": {},
   "outputs": [],
   "source": [
    "# # 이미지 경계값(테두리) --별로임\n",
    "\n",
    "# # 이미지 로드\n",
    "# image_gray = cv.imread(dir_name + \"/RGB_1.jpg\", cv.IMREAD_GRAYSCALE)\n",
    "\n",
    "# # 픽셀 강도의 중간값을 계산\n",
    "# median_intensity = np.median(image_gray)\n",
    "\n",
    "# # 중간 픽셀 강도에서 위아래 1 표준편차 떨어진 값을 임곗값으로 지정\n",
    "# lower_threshold = int(max(0, (1.0 - 0.33) * median_intensity))\n",
    "# upper_threshold = int(min(255, (1.0 + 0.33) * median_intensity))\n",
    "\n",
    "# # Canny edge detection 적용\n",
    "# image_canny = cv.Canny(image_gray, lower_threshold, upper_threshold)\n",
    "\n",
    "# cv.imshow('d',image_canny)\n",
    "# cv.waitKey(0)\n",
    "# cv.destroyAllWindows() "
   ]
  },
  {
   "cell_type": "markdown",
   "id": "prospective-preparation",
   "metadata": {},
   "source": [
    "## depth 정보를 이용하여 background 제거(2021.04.13)"
   ]
  },
  {
   "cell_type": "code",
   "execution_count": 5,
   "id": "executed-terrain",
   "metadata": {},
   "outputs": [],
   "source": [
    "import numpy as np\n",
    "import cv2 as cv\n",
    "import pandas as pd\n",
    "import matplotlib.pyplot as plt"
   ]
  },
  {
   "cell_type": "markdown",
   "id": "electoral-blowing",
   "metadata": {},
   "source": [
    "### depth.csv파일 정보 확인 - 값, 분포"
   ]
  },
  {
   "cell_type": "code",
   "execution_count": 6,
   "id": "english-overview",
   "metadata": {},
   "outputs": [],
   "source": [
    "# # 이방법 말고 아래 방법으로 1. csv-> dataframe만들기\n",
    "\n",
    "# #csv파일을 data frame파일로 만들기\n",
    "# depth_pd=pd.read_csv(\"Img_20200713_066a/Dist_data_1.csv\", delimiter=',') # '+'로 표시하는 거 안됨\n",
    "# depth_pd"
   ]
  },
  {
   "cell_type": "code",
   "execution_count": 7,
   "id": "moving-desert",
   "metadata": {},
   "outputs": [
    {
     "data": {
      "text/html": [
       "<div>\n",
       "<style scoped>\n",
       "    .dataframe tbody tr th:only-of-type {\n",
       "        vertical-align: middle;\n",
       "    }\n",
       "\n",
       "    .dataframe tbody tr th {\n",
       "        vertical-align: top;\n",
       "    }\n",
       "\n",
       "    .dataframe thead th {\n",
       "        text-align: right;\n",
       "    }\n",
       "</style>\n",
       "<table border=\"1\" class=\"dataframe\">\n",
       "  <thead>\n",
       "    <tr style=\"text-align: right;\">\n",
       "      <th></th>\n",
       "      <th>0</th>\n",
       "      <th>1</th>\n",
       "      <th>2</th>\n",
       "      <th>3</th>\n",
       "      <th>4</th>\n",
       "      <th>5</th>\n",
       "      <th>6</th>\n",
       "      <th>7</th>\n",
       "      <th>8</th>\n",
       "      <th>9</th>\n",
       "      <th>...</th>\n",
       "      <th>1270</th>\n",
       "      <th>1271</th>\n",
       "      <th>1272</th>\n",
       "      <th>1273</th>\n",
       "      <th>1274</th>\n",
       "      <th>1275</th>\n",
       "      <th>1276</th>\n",
       "      <th>1277</th>\n",
       "      <th>1278</th>\n",
       "      <th>1279</th>\n",
       "    </tr>\n",
       "  </thead>\n",
       "  <tbody>\n",
       "    <tr>\n",
       "      <th>0</th>\n",
       "      <td>0.000</td>\n",
       "      <td>0.000</td>\n",
       "      <td>0.000</td>\n",
       "      <td>0.000</td>\n",
       "      <td>5.166</td>\n",
       "      <td>5.166</td>\n",
       "      <td>5.114</td>\n",
       "      <td>5.114</td>\n",
       "      <td>5.114</td>\n",
       "      <td>5.114</td>\n",
       "      <td>...</td>\n",
       "      <td>46.023003</td>\n",
       "      <td>56.250004</td>\n",
       "      <td>65.535004</td>\n",
       "      <td>65.535004</td>\n",
       "      <td>65.535004</td>\n",
       "      <td>65.535004</td>\n",
       "      <td>65.535004</td>\n",
       "      <td>65.535004</td>\n",
       "      <td>65.535004</td>\n",
       "      <td>65.535004</td>\n",
       "    </tr>\n",
       "    <tr>\n",
       "      <th>1</th>\n",
       "      <td>0.000</td>\n",
       "      <td>0.000</td>\n",
       "      <td>0.000</td>\n",
       "      <td>0.000</td>\n",
       "      <td>5.166</td>\n",
       "      <td>5.166</td>\n",
       "      <td>5.114</td>\n",
       "      <td>5.114</td>\n",
       "      <td>5.114</td>\n",
       "      <td>5.114</td>\n",
       "      <td>...</td>\n",
       "      <td>46.023003</td>\n",
       "      <td>56.250004</td>\n",
       "      <td>65.535004</td>\n",
       "      <td>65.535004</td>\n",
       "      <td>65.535004</td>\n",
       "      <td>65.535004</td>\n",
       "      <td>65.535004</td>\n",
       "      <td>65.535004</td>\n",
       "      <td>65.535004</td>\n",
       "      <td>65.535004</td>\n",
       "    </tr>\n",
       "    <tr>\n",
       "      <th>2</th>\n",
       "      <td>0.000</td>\n",
       "      <td>0.000</td>\n",
       "      <td>0.000</td>\n",
       "      <td>0.000</td>\n",
       "      <td>0.000</td>\n",
       "      <td>5.166</td>\n",
       "      <td>5.140</td>\n",
       "      <td>5.140</td>\n",
       "      <td>5.140</td>\n",
       "      <td>5.140</td>\n",
       "      <td>...</td>\n",
       "      <td>40.500004</td>\n",
       "      <td>50.625004</td>\n",
       "      <td>63.281002</td>\n",
       "      <td>63.281002</td>\n",
       "      <td>65.535004</td>\n",
       "      <td>65.535004</td>\n",
       "      <td>65.535004</td>\n",
       "      <td>65.535004</td>\n",
       "      <td>65.535004</td>\n",
       "      <td>65.535004</td>\n",
       "    </tr>\n",
       "    <tr>\n",
       "      <th>3</th>\n",
       "      <td>0.000</td>\n",
       "      <td>0.000</td>\n",
       "      <td>0.000</td>\n",
       "      <td>0.000</td>\n",
       "      <td>0.000</td>\n",
       "      <td>5.219</td>\n",
       "      <td>5.219</td>\n",
       "      <td>5.219</td>\n",
       "      <td>5.192</td>\n",
       "      <td>5.192</td>\n",
       "      <td>...</td>\n",
       "      <td>37.500000</td>\n",
       "      <td>44.022003</td>\n",
       "      <td>56.250004</td>\n",
       "      <td>56.250004</td>\n",
       "      <td>65.535004</td>\n",
       "      <td>65.535004</td>\n",
       "      <td>65.535004</td>\n",
       "      <td>65.535004</td>\n",
       "      <td>65.535004</td>\n",
       "      <td>65.535004</td>\n",
       "    </tr>\n",
       "    <tr>\n",
       "      <th>4</th>\n",
       "      <td>0.000</td>\n",
       "      <td>0.000</td>\n",
       "      <td>0.000</td>\n",
       "      <td>0.000</td>\n",
       "      <td>0.000</td>\n",
       "      <td>5.219</td>\n",
       "      <td>5.219</td>\n",
       "      <td>5.219</td>\n",
       "      <td>5.192</td>\n",
       "      <td>5.192</td>\n",
       "      <td>...</td>\n",
       "      <td>37.500000</td>\n",
       "      <td>44.022003</td>\n",
       "      <td>56.250004</td>\n",
       "      <td>56.250004</td>\n",
       "      <td>65.535004</td>\n",
       "      <td>65.535004</td>\n",
       "      <td>65.535004</td>\n",
       "      <td>65.535004</td>\n",
       "      <td>65.535004</td>\n",
       "      <td>65.535004</td>\n",
       "    </tr>\n",
       "    <tr>\n",
       "      <th>...</th>\n",
       "      <td>...</td>\n",
       "      <td>...</td>\n",
       "      <td>...</td>\n",
       "      <td>...</td>\n",
       "      <td>...</td>\n",
       "      <td>...</td>\n",
       "      <td>...</td>\n",
       "      <td>...</td>\n",
       "      <td>...</td>\n",
       "      <td>...</td>\n",
       "      <td>...</td>\n",
       "      <td>...</td>\n",
       "      <td>...</td>\n",
       "      <td>...</td>\n",
       "      <td>...</td>\n",
       "      <td>...</td>\n",
       "      <td>...</td>\n",
       "      <td>...</td>\n",
       "      <td>...</td>\n",
       "      <td>...</td>\n",
       "      <td>...</td>\n",
       "    </tr>\n",
       "    <tr>\n",
       "      <th>715</th>\n",
       "      <td>0.513</td>\n",
       "      <td>0.514</td>\n",
       "      <td>0.515</td>\n",
       "      <td>0.515</td>\n",
       "      <td>0.516</td>\n",
       "      <td>0.516</td>\n",
       "      <td>0.516</td>\n",
       "      <td>0.517</td>\n",
       "      <td>0.518</td>\n",
       "      <td>0.518</td>\n",
       "      <td>...</td>\n",
       "      <td>0.000000</td>\n",
       "      <td>0.606000</td>\n",
       "      <td>0.606000</td>\n",
       "      <td>0.606000</td>\n",
       "      <td>0.606000</td>\n",
       "      <td>0.606000</td>\n",
       "      <td>0.607000</td>\n",
       "      <td>0.607000</td>\n",
       "      <td>0.000000</td>\n",
       "      <td>0.000000</td>\n",
       "    </tr>\n",
       "    <tr>\n",
       "      <th>716</th>\n",
       "      <td>0.514</td>\n",
       "      <td>0.514</td>\n",
       "      <td>0.515</td>\n",
       "      <td>0.515</td>\n",
       "      <td>0.516</td>\n",
       "      <td>0.516</td>\n",
       "      <td>0.516</td>\n",
       "      <td>0.517</td>\n",
       "      <td>0.518</td>\n",
       "      <td>0.518</td>\n",
       "      <td>...</td>\n",
       "      <td>0.000000</td>\n",
       "      <td>0.000000</td>\n",
       "      <td>0.606000</td>\n",
       "      <td>0.606000</td>\n",
       "      <td>0.606000</td>\n",
       "      <td>0.606000</td>\n",
       "      <td>0.606000</td>\n",
       "      <td>0.606000</td>\n",
       "      <td>0.000000</td>\n",
       "      <td>0.000000</td>\n",
       "    </tr>\n",
       "    <tr>\n",
       "      <th>717</th>\n",
       "      <td>0.514</td>\n",
       "      <td>0.515</td>\n",
       "      <td>0.516</td>\n",
       "      <td>0.516</td>\n",
       "      <td>0.516</td>\n",
       "      <td>0.516</td>\n",
       "      <td>0.516</td>\n",
       "      <td>0.517</td>\n",
       "      <td>0.517</td>\n",
       "      <td>0.518</td>\n",
       "      <td>...</td>\n",
       "      <td>0.000000</td>\n",
       "      <td>0.606000</td>\n",
       "      <td>0.605000</td>\n",
       "      <td>0.605000</td>\n",
       "      <td>0.605000</td>\n",
       "      <td>0.604000</td>\n",
       "      <td>0.604000</td>\n",
       "      <td>0.604000</td>\n",
       "      <td>0.000000</td>\n",
       "      <td>0.000000</td>\n",
       "    </tr>\n",
       "    <tr>\n",
       "      <th>718</th>\n",
       "      <td>0.514</td>\n",
       "      <td>0.515</td>\n",
       "      <td>0.516</td>\n",
       "      <td>0.516</td>\n",
       "      <td>0.516</td>\n",
       "      <td>0.517</td>\n",
       "      <td>0.517</td>\n",
       "      <td>0.517</td>\n",
       "      <td>0.517</td>\n",
       "      <td>0.517</td>\n",
       "      <td>...</td>\n",
       "      <td>0.000000</td>\n",
       "      <td>0.606000</td>\n",
       "      <td>0.605000</td>\n",
       "      <td>0.605000</td>\n",
       "      <td>0.605000</td>\n",
       "      <td>0.604000</td>\n",
       "      <td>0.604000</td>\n",
       "      <td>0.604000</td>\n",
       "      <td>0.000000</td>\n",
       "      <td>0.000000</td>\n",
       "    </tr>\n",
       "    <tr>\n",
       "      <th>719</th>\n",
       "      <td>0.515</td>\n",
       "      <td>0.515</td>\n",
       "      <td>0.516</td>\n",
       "      <td>0.516</td>\n",
       "      <td>0.516</td>\n",
       "      <td>0.517</td>\n",
       "      <td>0.517</td>\n",
       "      <td>0.517</td>\n",
       "      <td>0.517</td>\n",
       "      <td>0.517</td>\n",
       "      <td>...</td>\n",
       "      <td>0.000000</td>\n",
       "      <td>0.000000</td>\n",
       "      <td>0.000000</td>\n",
       "      <td>0.000000</td>\n",
       "      <td>0.000000</td>\n",
       "      <td>0.000000</td>\n",
       "      <td>0.000000</td>\n",
       "      <td>0.000000</td>\n",
       "      <td>0.000000</td>\n",
       "      <td>0.000000</td>\n",
       "    </tr>\n",
       "  </tbody>\n",
       "</table>\n",
       "<p>720 rows × 1280 columns</p>\n",
       "</div>"
      ],
      "text/plain": [
       "      0      1      2      3      4      5      6      7      8      9     \\\n",
       "0    0.000  0.000  0.000  0.000  5.166  5.166  5.114  5.114  5.114  5.114   \n",
       "1    0.000  0.000  0.000  0.000  5.166  5.166  5.114  5.114  5.114  5.114   \n",
       "2    0.000  0.000  0.000  0.000  0.000  5.166  5.140  5.140  5.140  5.140   \n",
       "3    0.000  0.000  0.000  0.000  0.000  5.219  5.219  5.219  5.192  5.192   \n",
       "4    0.000  0.000  0.000  0.000  0.000  5.219  5.219  5.219  5.192  5.192   \n",
       "..     ...    ...    ...    ...    ...    ...    ...    ...    ...    ...   \n",
       "715  0.513  0.514  0.515  0.515  0.516  0.516  0.516  0.517  0.518  0.518   \n",
       "716  0.514  0.514  0.515  0.515  0.516  0.516  0.516  0.517  0.518  0.518   \n",
       "717  0.514  0.515  0.516  0.516  0.516  0.516  0.516  0.517  0.517  0.518   \n",
       "718  0.514  0.515  0.516  0.516  0.516  0.517  0.517  0.517  0.517  0.517   \n",
       "719  0.515  0.515  0.516  0.516  0.516  0.517  0.517  0.517  0.517  0.517   \n",
       "\n",
       "     ...       1270       1271       1272       1273       1274       1275  \\\n",
       "0    ...  46.023003  56.250004  65.535004  65.535004  65.535004  65.535004   \n",
       "1    ...  46.023003  56.250004  65.535004  65.535004  65.535004  65.535004   \n",
       "2    ...  40.500004  50.625004  63.281002  63.281002  65.535004  65.535004   \n",
       "3    ...  37.500000  44.022003  56.250004  56.250004  65.535004  65.535004   \n",
       "4    ...  37.500000  44.022003  56.250004  56.250004  65.535004  65.535004   \n",
       "..   ...        ...        ...        ...        ...        ...        ...   \n",
       "715  ...   0.000000   0.606000   0.606000   0.606000   0.606000   0.606000   \n",
       "716  ...   0.000000   0.000000   0.606000   0.606000   0.606000   0.606000   \n",
       "717  ...   0.000000   0.606000   0.605000   0.605000   0.605000   0.604000   \n",
       "718  ...   0.000000   0.606000   0.605000   0.605000   0.605000   0.604000   \n",
       "719  ...   0.000000   0.000000   0.000000   0.000000   0.000000   0.000000   \n",
       "\n",
       "          1276       1277       1278       1279  \n",
       "0    65.535004  65.535004  65.535004  65.535004  \n",
       "1    65.535004  65.535004  65.535004  65.535004  \n",
       "2    65.535004  65.535004  65.535004  65.535004  \n",
       "3    65.535004  65.535004  65.535004  65.535004  \n",
       "4    65.535004  65.535004  65.535004  65.535004  \n",
       "..         ...        ...        ...        ...  \n",
       "715   0.607000   0.607000   0.000000   0.000000  \n",
       "716   0.606000   0.606000   0.000000   0.000000  \n",
       "717   0.604000   0.604000   0.000000   0.000000  \n",
       "718   0.604000   0.604000   0.000000   0.000000  \n",
       "719   0.000000   0.000000   0.000000   0.000000  \n",
       "\n",
       "[720 rows x 1280 columns]"
      ]
     },
     "execution_count": 7,
     "metadata": {},
     "output_type": "execute_result"
    }
   ],
   "source": [
    "# 1. np로 받은 값으로 depth csv->dataframe 만들기\n",
    "dir_name = \"Img_20200713_066a\"\n",
    "depth = np.loadtxt(dir_name + \"/Dist_data_1.csv\", delimiter=',')\n",
    "depth_df=pd.DataFrame(depth)\n",
    "\n",
    "depth_df"
   ]
  },
  {
   "cell_type": "code",
   "execution_count": 26,
   "id": "synthetic-guarantee",
   "metadata": {},
   "outputs": [
    {
     "name": "stdout",
     "output_type": "stream",
     "text": [
      "depth의 max : 59.559002\n",
      "depth의 min : 0.0\n",
      "\n",
      " [845582      0      0      0      0      0      0      0      0      0\n",
      "   4265   3399   4061   4010   4405   3443   3833   3025   2831   2635\n",
      "   1763   1918   1970   1897   1910   1939    920    986   2153   1106\n",
      "   1043   1127   1174   1224   1337      0   1351   1431   1597      0\n",
      "   1576      0   1401      0   1487      0   1360      0   1366      0\n",
      "   1318      0      0   1549      0      0   1584      0      0   1624\n",
      "      0      0      0      0      0]\n"
     ]
    },
    {
     "data": {
      "image/png": "[encoded data removed]",
      "text/plain": [
       "<Figure size 432x288 with 1 Axes>"
      ]
     },
     "metadata": {
      "needs_background": "light"
     },
     "output_type": "display_data"
    }
   ],
   "source": [
    "# # 2. depth값 range확인, 히스토그램 그려보기\n",
    "# # 0이 검은색으로 표현됨. 숫자가 클수록 가깝고 밝은색으로 표현됨\n",
    "# print(\"depth의 max :\", depth.max() )\n",
    "# print(\"depth의 min :\", depth.min() )\n",
    "\n",
    "# #값들 분포\n",
    "# bins=np.arange(0,66,1) # (start, stop, step)\n",
    "# hist, bins = np.histogram(depth, bins)\n",
    "# print(\"\\n\",hist)\n",
    "# #히스토그램 그리기 -> 10이하 값 엄청 많음. 60이상도 조금 있음\n",
    "# plt.hist(depth)\n",
    "# plt.show()"
   ]
  },
  {
   "cell_type": "code",
   "execution_count": 20,
   "id": "related-geology",
   "metadata": {},
   "outputs": [],
   "source": [
    "# # 0이 검은색으로 표현됨을 확인 (사용안함 그냥 확인용임)\n",
    "\n",
    "# cv.imshow('s',np.zeros((100,100)))\n",
    "# cv.waitKey(0) # space 바 처럼 키 아무거나 누르면 끝남 (창도 닫힘)\n",
    "# cv.destroyAllWindows() "
   ]
  },
  {
   "cell_type": "markdown",
   "id": "ahead-practice",
   "metadata": {},
   "source": [
    "### Filter 만들기 - 0&1로, average blur, gaussian blur"
   ]
  },
  {
   "cell_type": "code",
   "execution_count": 58,
   "id": "hawaiian-change",
   "metadata": {},
   "outputs": [
    {
     "name": "stdout",
     "output_type": "stream",
     "text": [
      "shape_bgfilter:  (720, 1280)\n",
      "shape_bla_bgfilter:  (720, 1280)\n",
      "shape_blg_bgfilter:  (720, 1280)\n",
      "type_blg_bgfilter:  <class 'numpy.ndarray'>\n"
     ]
    }
   ],
   "source": [
    "# 10보다 작고, 60보다 큰 값은 제거하고 그 사이값만 사용하기\n",
    "dir_name = \"Img_20200713_066a\"\n",
    "depth = np.loadtxt(dir_name + \"/Dist_data_1.csv\", delimiter=',')\n",
    "#1. depth에서 10보다 작고 60보다 큰곳은 bgfilter에서 0으로 만들기 (그 이외는 1)\n",
    "bgfilter = np.ones((depth.shape))\n",
    "bgfilter[depth==0]=0\n",
    "bgfilter[depth>1]=0\n",
    "\n",
    "#2. filter를 blurring하기 -average blurring\n",
    "kernel = np.ones((40,40),np.float32)/(40*40)\n",
    "bla_bgfilter=cv.filter2D(bgfilter,-1,kernel) # -1은 입력 영상과 동일한 데이터의 출력 영상 생성\n",
    "\n",
    "\n",
    "#3. 가우시안 blurring하기 \n",
    "blg_bgfilter=cv.GaussianBlur(bgfilter,(25,25),0) # -1은 입력 영상과 동일한 데이터의 출력 영상 생성\n",
    "\n",
    "#filter size 출력\n",
    "print(\"shape_bgfilter: \",bgfilter.shape)\n",
    "print(\"shape_bla_bgfilter: \",bla_bgfilter.shape)\n",
    "print(\"shape_blg_bgfilter: \",blg_bgfilter.shape)\n",
    "print(\"type_blg_bgfilter: \",type(blg_bgfilter))\n",
    "\n",
    "#imshow\n",
    "cv.imshow('Depth',depth)\n",
    "cv.imshow('Filter',bgfilter)\n",
    "cv.imshow('Filter_blurred_avg',bla_bgfilter)\n",
    "cv.imshow('Filter_blurred_gaus',blg_bgfilter)\n",
    "cv.waitKey(0)  \n",
    "cv.destroyAllWindows() \n"
   ]
  },
  {
   "cell_type": "code",
   "execution_count": null,
   "id": "dynamic-madagascar",
   "metadata": {},
   "outputs": [],
   "source": [
    "# # depth자체를 blur해서 만들어보기------------------------------------------------\n",
    "# kernel = np.ones((5,5),np.float32)/(5*5)\n",
    "# br_depth = bl_bgfilter=cv.filter2D(depth,-1,kernel)\n",
    "# #1. depth에서 10보다 작고 60보다 큰곳은 bgfilter에서 0으로 만들기 (그 이외는 1)\n",
    "# bgfilter = np.ones((br_depth.shape))\n",
    "# bgfilter[br_depth==0]=0\n",
    "# bgfilter[br_depth>1]=0\n",
    "\n",
    "# #2. filter를 blurring하기 -average blurring\n",
    "# kernel = np.ones((5,5),np.float32)/(5*5)\n",
    "# bl_bgfilter=cv.filter2D(bgfilter,-1,kernel) # -1은 입력 영상과 동일한 데이터의 출력 영상 생성\n",
    "\n",
    "# cv.imshow('Depth',br_depth)\n",
    "# cv.imshow('Filter',bgfilter)\n",
    "# cv.imshow('Filter_blurred',bl_bgfilter)\n",
    "# cv.waitKey(0)  \n",
    "# cv.destroyAllWindows() "
   ]
  },
  {
   "cell_type": "markdown",
   "id": "super-geneva",
   "metadata": {},
   "source": [
    "### [0,1로만 이루어진 filter]bgfilter filter이용해서 background 제거 -test1"
   ]
  },
  {
   "cell_type": "code",
   "execution_count": 101,
   "id": "earned-better",
   "metadata": {},
   "outputs": [],
   "source": [
    "test1 = color.copy() # copy하지 않으면 주소값 복사돼서 원본 이미지도 바뀜.\n",
    "test1[bgfilter==0]=0\n",
    "cv.imshow('test1',test1)\n",
    "cv.waitKey(0)\n",
    "cv.destroyAllWindows()"
   ]
  },
  {
   "cell_type": "markdown",
   "id": "democratic-brave",
   "metadata": {},
   "source": [
    "### [average blur bla_bgfilter] 이용해서 background 제거-test2"
   ]
  },
  {
   "cell_type": "markdown",
   "id": "fixed-reflection",
   "metadata": {},
   "source": [
    "rgb image에 filter를 적용하려고 하니 filter는 layer가 1개고, rgb image는 3개라서 잘 안됨. (해결 :X)  \n",
    "그래서 우선, rgb이미지를 gray scale로 만든 후, 해보겠음."
   ]
  },
  {
   "cell_type": "code",
   "execution_count": 95,
   "id": "steady-labor",
   "metadata": {},
   "outputs": [
    {
     "name": "stdout",
     "output_type": "stream",
     "text": [
      "gray scaled rgb image shape:  (720, 1280)\n"
     ]
    }
   ],
   "source": [
    "# rgb image -> gray image\n",
    "test2=cv.cvtColor(color,cv.COLOR_RGB2GRAY)\n",
    "print(\"gray scaled rgb image shape: \", test2.shape)\n",
    "cv.imshow('gray scaled rgb image', test2)\n",
    "cv.waitKey(0)\n",
    "cv.destroyAllWindows()"
   ]
  },
  {
   "cell_type": "code",
   "execution_count": 96,
   "id": "adopted-kingdom",
   "metadata": {},
   "outputs": [],
   "source": [
    "#결과가 black and white only 로 나옴 --> 1.2.5에서 해결\n",
    "test2= test2*bla_bgfilter\n",
    "cv.imshow('test2', test2)\n",
    "cv.waitKey(0)\n",
    "cv.destroyAllWindows()"
   ]
  },
  {
   "cell_type": "code",
   "execution_count": 103,
   "id": "structural-uruguay",
   "metadata": {},
   "outputs": [
    {
     "data": {
      "text/plain": [
       "True"
      ]
     },
     "execution_count": 103,
     "metadata": {},
     "output_type": "execute_result"
    }
   ],
   "source": [
    "#imwrite로 결과 저장해서 보면 잘 나옴. \n",
    "cv.imwrite(dir_name + \"/test2.png\", test2)"
   ]
  },
  {
   "cell_type": "markdown",
   "id": "approved-mumbai",
   "metadata": {},
   "source": [
    "### [디버깅] 2번, 3번 filter이용시 black & white로 나오는 이유알아보기 -type이 원인"
   ]
  },
  {
   "cell_type": "markdown",
   "id": "pregnant-houston",
   "metadata": {},
   "source": [
    "[type]이 원인임   \n",
    "imshow가 아니라 imwrite를 해서 보면, black&white가 아니라 제대로 나옴. https://answers.opencv.org/question/34269/imshow-error-but-imwrite-ok-in-python/  \n",
    "각 point의 type이 uint8가 아닌 float라서,,  \n",
    "int로 바꿔봄. test2 이미지는 잘 나오지만, 오히려 depth은 이상하게 나옴"
   ]
  },
  {
   "cell_type": "markdown",
   "id": "similar-modern",
   "metadata": {},
   "source": [
    "If the image is 8-bit unsigned, it is displayed as is.  \n",
    "If the image is 16-bit unsigned or 32-bit integer, the pixels are divided by 256. That is, the value range [0,255*256] is mapped to [0,255].  \n",
    "If the image is 32-bit or 64-bit floating-point, the pixel values are multiplied by 255. That is, the value range [0,1] is mapped to [0,255].  \n",
    "https://docs.opencv.org/4.0.0/d7/dfc/group__highgui.html#ga453d42fe4cb60e5723281a89973ee563 (imshow())"
   ]
  },
  {
   "cell_type": "code",
   "execution_count": 105,
   "id": "scientific-relative",
   "metadata": {},
   "outputs": [
    {
     "name": "stdout",
     "output_type": "stream",
     "text": [
      "color type: <class 'numpy.uint8'>\n",
      "test2 type: <class 'numpy.float64'>\n",
      "depth type: <class 'numpy.float64'>\n"
     ]
    }
   ],
   "source": [
    "print(\"color type:\",type(color[0][0][0]))\n",
    "print(\"test2 type:\",type(test2[0][0]))\n",
    "print(\"depth type:\",type(depth[0][0]))"
   ]
  },
  {
   "cell_type": "code",
   "execution_count": 116,
   "id": "buried-webcam",
   "metadata": {},
   "outputs": [
    {
     "name": "stdout",
     "output_type": "stream",
     "text": [
      "color type: <class 'numpy.uint8'>\n",
      "test1 type: <class 'numpy.uint8'>\n",
      "depth type: <class 'numpy.uint8'>\n",
      "\n",
      "\n",
      "test2는 int로 바꾸니, imwrite했을 때 처럼 잘 나오고, depth는 그냥 imshow하는 것보다 안나옴.\n",
      "imwrite는 차이 없음 \n"
     ]
    }
   ],
   "source": [
    "test22 = test2.astype('uint8')\n",
    "depth1 = depth.astype('uint8')\n",
    "print(\"color type:\",type(color[0][0][0]))\n",
    "print(\"test1 type:\",type(test22[0][0]))\n",
    "print(\"depth type:\",type(depth1[0][0]))\n",
    "\n",
    "cv.imshow('test22',test22)\n",
    "cv.imshow('depth1',depth1)\n",
    "cv.imshow('depth',depth) #depth1이랑 다르게 나옴\n",
    "cv.waitKey(0)\n",
    "cv.destroyAllWindows()\n",
    "print(\"\\n\\ntest2는 int로 바꾸니, imwrite했을 때 처럼 잘 나오고, depth는 그냥 imshow하는 것보다 안나옴.\\nimwrite는 차이 없음 \")"
   ]
  },
  {
   "cell_type": "markdown",
   "id": "infinite-librarian",
   "metadata": {},
   "source": [
    "[range]  \n",
    "array의 요소값 범위 알아보기 (depth가 int로 바꿨을때 잘 안나오는 이유를 알아보자)"
   ]
  },
  {
   "cell_type": "code",
   "execution_count": 104,
   "id": "starting-perfume",
   "metadata": {},
   "outputs": [
    {
     "data": {
      "text/plain": [
       "True"
      ]
     },
     "execution_count": 104,
     "metadata": {},
     "output_type": "execute_result"
    }
   ],
   "source": [
    "#우선 depth와 depth1를 imwrite하면 어떻게 보이는 지 확인해보자 - 둘다 이상함\n",
    "cv.imwrite(dir_name + \"/depth.png\", depth)\n",
    "cv.imwrite(dir_name + \"/depth1.png\", depth1)"
   ]
  },
  {
   "cell_type": "code",
   "execution_count": 107,
   "id": "computational-vancouver",
   "metadata": {},
   "outputs": [
    {
     "name": "stdout",
     "output_type": "stream",
     "text": [
      "depth min: 0.0 , depth max:  65.535004\n",
      "rgb min: 11 , rgb max:  255\n",
      "test1 min: 0 , test1 max:  255\n"
     ]
    }
   ],
   "source": [
    "#depth과 rgb, test1의 value 범위확인\n",
    "print(\"depth min:\", depth.min(), \", depth max: \", depth.max())\n",
    "print(\"rgb min:\", color.min(), \", rgb max: \", color.max())\n",
    "print(\"test1 min:\", test1.min(), \", test1 max: \", test1.max())"
   ]
  },
  {
   "cell_type": "markdown",
   "id": "boolean-poetry",
   "metadata": {},
   "source": [
    "### [Gaussian blur blg_bgfilter] 이용해서 background 제거-test3"
   ]
  },
  {
   "cell_type": "code",
   "execution_count": 118,
   "id": "covered-audit",
   "metadata": {},
   "outputs": [],
   "source": [
    "# gray image * filter\n",
    "test3=cv.cvtColor(color,cv.COLOR_RGB2GRAY)\n",
    "test3=test3*blg_bgfilter\n",
    "test33 = test3.astype('uint8')\n",
    "cv.imshow('test3', test33)\n",
    "cv.waitKey(0)\n",
    "cv.destroyAllWindows()"
   ]
  },
  {
   "cell_type": "code",
   "execution_count": null,
   "id": "apart-family",
   "metadata": {},
   "outputs": [],
   "source": []
  }
 ],
 "metadata": {
  "kernelspec": {
   "display_name": "Python 3",
   "language": "python",
   "name": "python3"
  },
  "language_info": {
   "codemirror_mode": {
    "name": "ipython",
    "version": 3
   },
   "file_extension": ".py",
   "mimetype": "text/x-python",
   "name": "python",
   "nbconvert_exporter": "python",
   "pygments_lexer": "ipython3",
   "version": "3.8.0"
  },
  "toc": {
   "base_numbering": 1,
   "nav_menu": {},
   "number_sections": true,
   "sideBar": true,
   "skip_h1_title": false,
   "title_cell": "Table of Contents",
   "title_sidebar": "Contents",
   "toc_cell": false,
   "toc_position": {
    "height": "707.273px",
    "left": "34px",
    "top": "86.8468px",
    "width": "349.091px"
   },
   "toc_section_display": true,
   "toc_window_display": true
  }
 },
 "nbformat": 4,
 "nbformat_minor": 5
}
